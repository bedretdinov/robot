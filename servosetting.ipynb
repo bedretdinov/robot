{
 "cells": [
  {
   "cell_type": "code",
   "execution_count": 27,
   "metadata": {},
   "outputs": [],
   "source": [
    "\n",
    "import time\n",
    "from ServoV2 import  Servo \n",
    "from multiprocessing import Process\n",
    "import random\n",
    "import sys\n",
    "#from GeneticAlgoritm import GeneticAlgoritm\n",
    "from ipywidgets import interact, interactive, fixed, interact_manual\n",
    "import ipywidgets as widgets\n",
    "import pickle"
   ]
  },
  {
   "cell_type": "code",
   "execution_count": 8,
   "metadata": {},
   "outputs": [],
   "source": [
    "from random import randint\n",
    "from ServoV2 import  Servo\n",
    "\n",
    "from multiprocessing import Pool "
   ]
  },
  {
   "cell_type": "code",
   "execution_count": 44,
   "metadata": {},
   "outputs": [],
   "source": [
    "# -*- coding: utf-8 -*-\n",
    "import RPi.GPIO as GPIO\n",
    "from adafruit_servokit import ServoKit\n",
    "import time\n",
    "import math\n",
    "import numpy as np\n",
    "kit = ServoKit(channels=16)\n",
    "\n",
    "\n",
    "\n",
    "\n",
    "for i in range(16):\n",
    "    kit.servo[i].set_pulse_width_range(500, 3000)\n",
    "\n",
    "\n",
    "# 13 # бедро\n",
    "# 14,6 # пятка\n",
    "# 15 # Колено  проблема с градусами\n",
    "\n",
    "# 0 бок бедро\n",
    "\n",
    "# default_vals = {\n",
    "#     15:0, # Колено проблемы\n",
    "#     14:77, # пятка\n",
    "#     13:61, # бедро\n",
    "#     12:118,# бедро в бок\n",
    "#     11:80, # бедро поворот ноги\n",
    "#     9:0,  # Колено проблемы\n",
    "#     6:57, # пятка  \n",
    "#     3:56, # бедро поворот ноги\n",
    "#     2:48, # бедро\n",
    "#     0:71, # бедро в бок\n",
    "# }\n",
    "\n",
    "with open('default_vals.pcl','rb') as f:\n",
    "    default_vals = pickle.load(f)\n",
    "\n",
    "    for i in range(16):\n",
    "        if(i in default_vals and default_vals[i]<=180): \n",
    "            kit.servo[i].angle = 0 if(default_vals[i]<0) else default_vals[i]"
   ]
  },
  {
   "cell_type": "code",
   "execution_count": 46,
   "metadata": {},
   "outputs": [
    {
     "data": {
      "application/vnd.jupyter.widget-view+json": {
       "model_id": "b58b6e79c220414c8004698c2fc2028c",
       "version_major": 2,
       "version_minor": 0
      },
      "text/plain": [
       "interactive(children=(IntSlider(value=0, description='s', max=1), IntSlider(value=71, description='r', max=180…"
      ]
     },
     "metadata": {},
     "output_type": "display_data"
    },
    {
     "data": {
      "text/plain": [
       "<function __main__.f(s=0, r=40)>"
      ]
     },
     "execution_count": 46,
     "metadata": {},
     "output_type": "execute_result"
    }
   ],
   "source": [
    "motor = 0\n",
    "def f(s=motor,r=40): \n",
    "    kit.servo[motor].angle = r\n",
    "    \n",
    "interact(f,s=motor,r=widgets.IntSlider(min=0, max=180, step=1, value=71))"
   ]
  },
  {
   "cell_type": "code",
   "execution_count": 45,
   "metadata": {},
   "outputs": [
    {
     "data": {
      "application/vnd.jupyter.widget-view+json": {
       "model_id": "c241d304e96847aa9aedc000de979362",
       "version_major": 2,
       "version_minor": 0
      },
      "text/plain": [
       "interactive(children=(IntSlider(value=6, description='s', max=18, min=-6), IntSlider(value=57, description='r'…"
      ]
     },
     "metadata": {},
     "output_type": "display_data"
    },
    {
     "data": {
      "text/plain": [
       "<function __main__.f(s=6, r=40)>"
      ]
     },
     "execution_count": 45,
     "metadata": {},
     "output_type": "execute_result"
    }
   ],
   "source": [
    "motor2 = 6\n",
    "def f(s=motor2,r=40): \n",
    "    kit.servo[motor2].angle = r\n",
    "    \n",
    "interact(f,s=motor2,r=widgets.IntSlider(min=0, max=180, step=1, value=57))"
   ]
  },
  {
   "cell_type": "code",
   "execution_count": null,
   "metadata": {},
   "outputs": [],
   "source": []
  },
  {
   "cell_type": "code",
   "execution_count": 29,
   "metadata": {},
   "outputs": [],
   "source": [
    "for i in range(16): \n",
    "    default_vals[i] = kit.servo[i].angle\n",
    "    \n",
    "with open('default_vals.pcl','wb') as f:\n",
    "    pickle.dump(default_vals,f)"
   ]
  },
  {
   "cell_type": "code",
   "execution_count": null,
   "metadata": {},
   "outputs": [],
   "source": []
  }
 ],
 "metadata": {
  "kernelspec": {
   "display_name": "Python 3",
   "language": "python",
   "name": "python3"
  },
  "language_info": {
   "codemirror_mode": {
    "name": "ipython",
    "version": 3
   },
   "file_extension": ".py",
   "mimetype": "text/x-python",
   "name": "python",
   "nbconvert_exporter": "python",
   "pygments_lexer": "ipython3",
   "version": "3.5.3"
  }
 },
 "nbformat": 4,
 "nbformat_minor": 2
}
